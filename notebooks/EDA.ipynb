{
 "cells": [
  {
   "cell_type": "code",
   "execution_count": null,
   "metadata": {},
   "outputs": [],
   "source": [
    "\n",
    "# Import libraries\n",
    "import pandas as pd\n",
    "import matplotlib.pyplot as plt\n",
    "import seaborn as sns\n",
    "\n",
    "# Set visualization style\n",
    "sns.set(style=\"whitegrid\")\n",
    "\n",
    "# Load the dataset\n",
    "data = pd.read_csv('data/train_v2_drcat_02.csv') \n",
    "data.head()\n"
   ]
  },
  {
   "cell_type": "code",
   "execution_count": null,
   "metadata": {},
   "outputs": [],
   "source": [
    "# Check the shape of the dataset\n",
    "print(\"Dataset Shape:\", data.shape)\n",
    "\n",
    "# Get information about columns and data types\n",
    "data.info()\n",
    "\n",
    "# Display basic statistics\n",
    "data.describe(include='all')\n"
   ]
  },
  {
   "cell_type": "code",
   "execution_count": null,
   "metadata": {},
   "outputs": [],
   "source": [
    "# Check for missing values\n",
    "missing_values = data.isnull().sum()\n",
    "missing_values = missing_values[missing_values > 0]\n",
    "\n",
    "# Display missing values\n",
    "print(\"Missing Values:\")\n",
    "print(missing_values)\n",
    "\n",
    "# Plot missing values if any exist\n",
    "if not missing_values.empty:\n",
    "    plt.figure(figsize=(10, 6))\n",
    "    sns.barplot(x=missing_values.index, y=missing_values.values)\n",
    "    plt.xticks(rotation=45)\n",
    "    plt.title(\"Missing Values by Column\")\n",
    "    plt.show()\n",
    "else:\n",
    "    print(\"No missing values found.\")\n"
   ]
  },
  {
   "cell_type": "code",
   "execution_count": null,
   "metadata": {},
   "outputs": [],
   "source": [
    "# Check class distribution\n",
    "class_counts = data['label'].value_counts()  \n",
    "# Display class counts\n",
    "print(\"Class Distribution:\")\n",
    "print(class_counts)\n",
    "\n",
    "# Plot class distribution\n",
    "plt.figure(figsize=(6, 4))\n",
    "sns.barplot(x=class_counts.index, y=class_counts.values, palette='viridis')\n",
    "plt.title(\"Class Distribution\")\n",
    "plt.ylabel(\"Count\")\n",
    "plt.xlabel(\"Class\")\n",
    "plt.show()\n"
   ]
  },
  {
   "cell_type": "code",
   "execution_count": null,
   "metadata": {},
   "outputs": [],
   "source": [
    "from sklearn.utils import resample\n",
    "\n",
    "# Separate the majority and minority classes\n",
    "majority_class = data[data['label'] == 0]  \n",
    "minority_class = data[data['label'] == 1]\n",
    "\n",
    "# Undersample the majority class to match the minority class\n",
    "majority_undersampled = resample(majority_class, \n",
    "                                 replace=False,  # Don't replace samples\n",
    "                                 n_samples=len(minority_class),  # Match minority class count\n",
    "                                 random_state=42)  # Reproducibility\n",
    "\n",
    "# Combine the undersampled majority class with the minority class\n",
    "data_balanced = pd.concat([majority_undersampled, minority_class])\n",
    "\n",
    "# Shuffle the balanced dataset\n",
    "data_balanced = data_balanced.sample(frac=1, random_state=42).reset_index(drop=True)\n",
    "\n",
    "# Verify the new class distribution\n",
    "print(\"Balanced Class Distribution:\")\n",
    "print(data_balanced['label'].value_counts())\n",
    "\n",
    "# Plot the new class distribution\n",
    "plt.figure(figsize=(6, 4))\n",
    "sns.countplot(x='label', data=data_balanced, palette='viridis')\n",
    "plt.title(\"Balanced Class Distribution After Undersampling\")\n",
    "plt.ylabel(\"Count\")\n",
    "plt.xlabel(\"Class\")\n",
    "plt.show()\n"
   ]
  },
  {
   "cell_type": "code",
   "execution_count": null,
   "metadata": {},
   "outputs": [],
   "source": [
    "# Add text statistics columns\n",
    "data_balanced['word_count'] = data_balanced['text'].apply(lambda x: len(str(x).split()))  \n",
    "data_balanced['char_count'] = data_balanced['text'].apply(lambda x: len(str(x)))\n",
    "data_balanced['sentence_count'] = data_balanced['text'].apply(lambda x: str(x).count('.'))\n",
    "\n",
    "# Display basic statistics for these new columns\n",
    "print(\"Text-based Descriptive Statistics:\")\n",
    "print(data_balanced[['word_count', 'char_count', 'sentence_count']].describe())\n",
    "\n",
    "# Import Seaborn and Matplotlib\n",
    "import seaborn as sns\n",
    "import matplotlib.pyplot as plt\n",
    "# Plot word count distribution by class\n",
    "plt.figure(figsize=(10, 5))\n",
    "sns.histplot(data=data_balanced, x='word_count', bins=50, kde=True, hue='label', palette='coolwarm', alpha=0.6)\n",
    "plt.title(\"Distribution of Word Counts by Class\", fontsize=14, fontweight='bold')\n",
    "plt.xlabel(\"Word Count (Number of Words per Text)\", fontsize=12)\n",
    "plt.ylabel(\"Frequency (Number of Texts)\", fontsize=12)\n",
    "plt.legend(title=\"Class\", labels=[\"Human-written\", \"AI-generated\"], loc='upper right')\n",
    "plt.grid(axis='y', linestyle='--', alpha=0.7)\n",
    "plt.show()\n",
    "\n",
    "# Plot character count distribution by class\n",
    "plt.figure(figsize=(10, 5))\n",
    "sns.histplot(data=data_balanced, x='char_count', bins=50, kde=True, hue='label', palette='Set2', alpha=0.6)\n",
    "plt.title(\"Distribution of Character Counts by Class\", fontsize=14, fontweight='bold')\n",
    "plt.xlabel(\"Character Count (Number of Characters per Text)\", fontsize=12)\n",
    "plt.ylabel(\"Frequency (Number of Texts)\", fontsize=12)\n",
    "plt.legend(title=\"Class\", labels=[\"Human-written\", \"AI-generated\"], loc='upper right')\n",
    "plt.grid(axis='y', linestyle='--', alpha=0.7)\n",
    "plt.show()\n",
    "\n",
    "# Plot sentence count distribution by class\n",
    "plt.figure(figsize=(10, 5))\n",
    "sns.histplot(data=data_balanced, x='sentence_count', bins=30, kde=True, hue='label', palette='viridis', alpha=0.6)\n",
    "plt.title(\"Distribution of Sentence Counts by Class\", fontsize=14, fontweight='bold')\n",
    "plt.xlabel(\"Sentence Count (Number of Sentences per Text)\", fontsize=12)\n",
    "plt.ylabel(\"Frequency (Number of Texts)\", fontsize=12)\n",
    "plt.legend(title=\"Class\", labels=[\"Human-written\", \"AI-generated\"], loc='upper right')\n",
    "plt.grid(axis='y', linestyle='--', alpha=0.7)\n",
    "plt.show()\n"
   ]
  },
  {
   "cell_type": "code",
   "execution_count": null,
   "metadata": {},
   "outputs": [],
   "source": [
    "# Save the balanced dataset to a new CSV file\n",
    "data_balanced.to_csv('balanced_dataset.csv', index=False)\n"
   ]
  }
 ],
 "metadata": {
  "kernelspec": {
   "display_name": "base",
   "language": "python",
   "name": "python3"
  },
  "language_info": {
   "codemirror_mode": {
    "name": "ipython",
    "version": 3
   },
   "file_extension": ".py",
   "mimetype": "text/x-python",
   "name": "python",
   "nbconvert_exporter": "python",
   "pygments_lexer": "ipython3",
   "version": "3.8.8"
  }
 },
 "nbformat": 4,
 "nbformat_minor": 2
}
